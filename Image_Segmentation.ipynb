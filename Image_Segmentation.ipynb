{
  "nbformat": 4,
  "nbformat_minor": 0,
  "metadata": {
    "colab": {
      "provenance": []
    },
    "kernelspec": {
      "name": "python3",
      "display_name": "Python 3"
    },
    "language_info": {
      "name": "python"
    }
  },
  "cells": [
    {
      "cell_type": "markdown",
      "source": [
        "# Image Segmentation Process"
      ],
      "metadata": {
        "id": "1gkOWmmLD3uN"
      }
    },
    {
      "cell_type": "markdown",
      "source": [
        "## Initial Setup of directories and required libraries"
      ],
      "metadata": {
        "id": "Vls8Odk8OEEJ"
      }
    },
    {
      "cell_type": "code",
      "source": [
        "from google.colab import drive\n",
        "drive.mount('/content/drive')\n",
        "\n",
        "import os\n",
        "import pandas as pd\n",
        "import numpy as np\n",
        "import cv2 as cv\n",
        "import time\n",
        "import re\n",
        "\n",
        "import matplotlib.pyplot as plt\n",
        "\n",
        "from PIL import Image\n",
        "\n",
        "from scipy import ndimage as ndi\n",
        "from scipy.ndimage import interpolation as inter\n",
        "\n",
        "from skimage import filters\n",
        "from skimage.measure import label, regionprops\n",
        "from skimage.segmentation import slic, clear_border\n",
        "from skimage.morphology import remove_small_objects, remove_small_holes, binary_closing, binary_dilation, disk, binary_erosion\n",
        "\n",
        "import tensorflow as tf\n",
        "\n",
        "import warnings\n",
        "warnings.filterwarnings(\"ignore\")\n",
        "\n",
        "nbdir = \"/content/drive/MyDrive/DSCI 592 Group/\"\n",
        "%cd /content/drive/MyDrive/DSCI\\ 592\\ Group/"
      ],
      "metadata": {
        "id": "781hr9KuEfwb"
      },
      "execution_count": null,
      "outputs": []
    },
    {
      "cell_type": "code",
      "source": [
        "#Set Directories\n",
        "\n",
        "#Main - Original\n",
        "Benign_dir = ['./data/The IQ-OTHNCCD lung cancer dataset/Bengin cases']\n",
        "Malignant_dir = ['./data/The IQ-OTHNCCD lung cancer dataset/Malignant cases']\n",
        "Normal_dir = ['./data/The IQ-OTHNCCD lung cancer dataset/Normal cases']\n",
        "\n",
        "#Main - Pipeline Segmented\n",
        "Benign_Seg_dir = ['./data/The IQ-OTHNCCD lung cancer dataset/Bengin Segmented']\n",
        "Malignant_Seg_dir = ['./data/The IQ-OTHNCCD lung cancer dataset/Malignant Segmented']\n",
        "Normal_Seg_dir = ['./data/The IQ-OTHNCCD lung cancer dataset/Normal Segmented']\n",
        "\n",
        "#Main - UNET Segmented\n",
        "Benign_Seg_UNET_dir = ['./data/The IQ-OTHNCCD lung cancer dataset/Bengin UNET Segmented']\n",
        "Malignant_Seg_UNET_dir = ['./data/The IQ-OTHNCCD lung cancer dataset/Malignant UNET Segmented']\n",
        "Normal_Seg_UNET_dir = ['./data/The IQ-OTHNCCD lung cancer dataset/Normal UNET Segmented']\n",
        "\n",
        "\n",
        "#Validation - Original\n",
        "Adenocarcinoma_DLCT_dir = ['./data/DLCTLungDetectNet/Unrefined Data/adenocarcinoma']\n",
        "Squamous_Cell_Carcinoma_DLCT_dir = ['./data/DLCTLungDetectNet/Unrefined Data/squamous.cell.carcinoma']\n",
        "Large_Cell_Carcinoma_DLCT_dir = ['./data/DLCTLungDetectNet/Unrefined Data/large.cell.carcinoma']\n",
        "Normal_DLCT_dir = ['./data/DLCTLungDetectNet/Unrefined Data/normal']\n",
        "\n",
        "#Validation - Pipeline Segmented\n",
        "Adenocarcinoma_DLCT_Seg_dir = ['./data/DLCTLungDetectNet/Unrefined Data/adenocarcinoma Segmented']\n",
        "Squamous_Cell_Carcinoma_DLCT_Seg_dir = ['./data/DLCTLungDetectNet/Unrefined Data/squamous.cell.carcinoma Segmented']\n",
        "Large_Cell_Carcinoma_DLCT_Seg_dir = ['./data/DLCTLungDetectNet/Unrefined Data/large.cell.carcinoma Segmented']\n",
        "Normal_DLCT_Seg_dir = ['./data/DLCTLungDetectNet/Unrefined Data/normal Segmented']\n",
        "\n",
        "#Validation - UNET Segmented\n",
        "Adenocarcinoma_Seg_UNET_DLCT_dir = ['./data/DLCTLungDetectNet/Unrefined Data/adenocarcinoma UNET Segmented']\n",
        "Squamous_Cell_Carcinoma_Seg_UNET_DLCT_dir = ['./data/DLCTLungDetectNet/Unrefined Data/squamous.cell.carcinoma UNET Segmented']\n",
        "Large_Cell_Carcinoma_Seg_UNET_DLCT_dir = ['./data/DLCTLungDetectNet/Unrefined Data/large.cell.carcinoma UNET Segmented']\n",
        "Normal_Seg_UNET_DLCT_dir = ['./data/DLCTLungDetectNet/Unrefined Data/normal UNET Segmented']"
      ],
      "metadata": {
        "id": "CtUxKNZYEL7C"
      },
      "execution_count": null,
      "outputs": []
    },
    {
      "cell_type": "code",
      "source": [
        "# New Function to create a new data frame that contains filename, labels, data format, height, width\n",
        "# Returns Cancerous labels for cancerous directories and Non_Cancerous labels for normal directories\n",
        "# Creating data frame for Validation Dataset\n",
        "\n",
        "directories = [Adenocarcinoma_DLCT_dir, Squamous_Cell_Carcinoma_DLCT_dir, Large_Cell_Carcinoma_DLCT_dir, Normal_DLCT_dir]\n",
        "labels = [\"cancerous\", \"cancerous\", \"cancerous\", \"non_cancerous\"]\n",
        "\n",
        "def get_image_metadata(image_path):\n",
        "    with Image.open(image_path) as img:\n",
        "        metadata = {\n",
        "            \"filename\": os.path.basename(image_path),\n",
        "            \"format\": img.format,\n",
        "            \"width\": img.width,\n",
        "            \"height\": img.height\n",
        "        }\n",
        "    return metadata\n",
        "\n",
        "def create_labels(image_path, cancerous_dirs, non_cancerous_dirs):\n",
        "    # Flatten the list of cancerous directories\n",
        "    flattened_cancerous_dirs = [dir for sublist in cancerous_dirs for dir in sublist]\n",
        "\n",
        "    if any(image_path.startswith(dir) for dir in flattened_cancerous_dirs):\n",
        "        return \"cancerous\"\n",
        "    # Iterate over each directory in non_cancerous_dirs instead of using 'any'\n",
        "    elif any(image_path.startswith(dir) for dir in [item for sublist in non_cancerous_dirs for item in sublist]):\n",
        "        return \"non_cancerous\"\n",
        "    else:\n",
        "        return None\n",
        "\n",
        "def extract_metadata_with_labels(directories, labels):\n",
        "    filepaths = []\n",
        "    all_labels = []\n",
        "\n",
        "    for i, dir_list in enumerate(directories):\n",
        "        for directory in dir_list:\n",
        "            for root, _, files in os.walk(directory):\n",
        "                for file in files:\n",
        "                    if file.lower().endswith(('.png', '.jpg', '.jpeg')):\n",
        "                        filepaths.append(os.path.join(root, file))\n",
        "                        all_labels.append(labels[i])\n",
        "\n",
        "    Fseries = pd.Series(filepaths, name=\"filepaths\")\n",
        "    Lseries = pd.Series(all_labels, name=\"labels\")\n",
        "    Lung_df = pd.concat([Fseries, Lseries], axis=1)\n",
        "    Lung_df = pd.DataFrame(Lung_df)\n",
        "    pd.set_option('display.max_colwidth', None)\n",
        "\n",
        "    width = []\n",
        "    height = []\n",
        "    format = []\n",
        "\n",
        "    for filepath in Lung_df[\"filepaths\"]:\n",
        "        try:\n",
        "            metadata = get_image_metadata(filepath)\n",
        "            width.append(metadata['width'])\n",
        "            height.append(metadata['height'])\n",
        "            format.append(metadata['format'])\n",
        "        except Exception as e:\n",
        "            print(f\"Error processing {filepath}: {e}\")\n",
        "            width.append(None)\n",
        "            height.append(None)\n",
        "            format.append(None)\n",
        "\n",
        "    width_series = pd.Series(width, name=\"width\")\n",
        "    height_series = pd.Series(height, name=\"height\")\n",
        "    format_series = pd.Series(format, name=\"format\")\n",
        "\n",
        "    # Create labels based on directories\n",
        "    cancerous_dirs = directories[:3]  # Malignant directories\n",
        "    non_cancerous_dirs = directories[3:]  # Normal directories\n",
        "    Lung_df[\"labels\"] = Lung_df[\"filepaths\"].apply(lambda x: create_labels(x, cancerous_dirs, non_cancerous_dirs))\n",
        "\n",
        "    Lung_df = pd.concat([Lung_df, width_series, height_series, format_series], axis=1)\n",
        "\n",
        "    return Lung_df\n",
        "\n",
        "# Usage\n",
        "Lung_df_validation = extract_metadata_with_labels(directories, labels)\n",
        "print(Lung_df_validation.head())"
      ],
      "metadata": {
        "colab": {
          "base_uri": "https://localhost:8080/"
        },
        "id": "cih8SW_8EXms",
        "outputId": "fadb0bff-7e90-4ce1-9361-3b408ec62da7"
      },
      "execution_count": null,
      "outputs": [
        {
          "output_type": "stream",
          "name": "stdout",
          "text": [
            "                                                                      filepaths  \\\n",
            "0   ./data/DLCTLungDetectNet/Unrefined Data/adenocarcinoma/adenocarcinoma17.png   \n",
            "1  ./data/DLCTLungDetectNet/Unrefined Data/adenocarcinoma/adenocarcinoma271.png   \n",
            "2  ./data/DLCTLungDetectNet/Unrefined Data/adenocarcinoma/adenocarcinoma136.png   \n",
            "3  ./data/DLCTLungDetectNet/Unrefined Data/adenocarcinoma/adenocarcinoma110.png   \n",
            "4  ./data/DLCTLungDetectNet/Unrefined Data/adenocarcinoma/adenocarcinoma139.png   \n",
            "\n",
            "      labels  width  height format  \n",
            "0  cancerous    429     259    PNG  \n",
            "1  cancerous    460     341    PNG  \n",
            "2  cancerous    361     268    PNG  \n",
            "3  cancerous    416     272    PNG  \n",
            "4  cancerous    395     303    PNG  \n"
          ]
        }
      ]
    },
    {
      "cell_type": "code",
      "source": [
        "# New Function to create a new data frame that contains filename, labels, data format, height, width\n",
        "# Returns Cancerous labels for cancerous directories and Non_Cancerous labels for normal directories\n",
        "# Creating data frame for Training Dataset\n",
        "\n",
        "directories = [Malignant_dir, Benign_dir, Normal_dir]\n",
        "labels = [\"cancerous\", \"non_cancerous\", \"non_cancerous\"]\n",
        "\n",
        "def get_image_metadata(image_path):\n",
        "    with Image.open(image_path) as img:\n",
        "        metadata = {\n",
        "            \"filename\": os.path.basename(image_path),\n",
        "            \"format\": img.format,\n",
        "            \"width\": img.width,\n",
        "            \"height\": img.height\n",
        "        }\n",
        "    return metadata\n",
        "\n",
        "def create_labels(image_path, cancerous_dirs, non_cancerous_dirs):\n",
        "    # Flatten the list of cancerous directories\n",
        "    flattened_cancerous_dirs = [dir for sublist in cancerous_dirs for dir in sublist]\n",
        "\n",
        "    if any(image_path.startswith(dir) for dir in flattened_cancerous_dirs):\n",
        "        return \"cancerous\"\n",
        "    # Iterate over each directory in non_cancerous_dirs instead of using 'any'\n",
        "    elif any(image_path.startswith(dir) for dir in [item for sublist in non_cancerous_dirs for item in sublist]):\n",
        "        return \"non_cancerous\"\n",
        "    else:\n",
        "        return None\n",
        "\n",
        "def extract_metadata_with_labels(directories, labels):\n",
        "    filepaths = []\n",
        "    all_labels = []\n",
        "\n",
        "    for i, dir_list in enumerate(directories):\n",
        "        for directory in dir_list:\n",
        "            for root, _, files in os.walk(directory):\n",
        "                for file in files:\n",
        "                    if file.lower().endswith(('.png', '.jpg', '.jpeg')):\n",
        "                        filepaths.append(os.path.join(root, file))\n",
        "                        all_labels.append(labels[i])\n",
        "\n",
        "    Fseries = pd.Series(filepaths, name=\"filepaths\")\n",
        "    Lseries = pd.Series(all_labels, name=\"labels\")\n",
        "    Lung_df = pd.concat([Fseries, Lseries], axis=1)\n",
        "    Lung_df = pd.DataFrame(Lung_df)\n",
        "    pd.set_option('display.max_colwidth', None)\n",
        "\n",
        "    width = []\n",
        "    height = []\n",
        "    format = []\n",
        "\n",
        "    for filepath in Lung_df[\"filepaths\"]:\n",
        "        try:\n",
        "            metadata = get_image_metadata(filepath)\n",
        "            width.append(metadata['width'])\n",
        "            height.append(metadata['height'])\n",
        "            format.append(metadata['format'])\n",
        "        except Exception as e:\n",
        "            print(f\"Error processing {filepath}: {e}\")\n",
        "            width.append(None)\n",
        "            height.append(None)\n",
        "            format.append(None)\n",
        "\n",
        "    width_series = pd.Series(width, name=\"width\")\n",
        "    height_series = pd.Series(height, name=\"height\")\n",
        "    format_series = pd.Series(format, name=\"format\")\n",
        "\n",
        "    # Create labels based on directories\n",
        "    cancerous_dirs = directories[:1]  # Malignant directories\n",
        "    non_cancerous_dirs = directories[1:]  # Benign and Normal directories\n",
        "    Lung_df[\"labels\"] = Lung_df[\"filepaths\"].apply(lambda x: create_labels(x, cancerous_dirs, non_cancerous_dirs))\n",
        "\n",
        "    Lung_df = pd.concat([Lung_df, width_series, height_series, format_series], axis=1)\n",
        "\n",
        "    return Lung_df\n",
        "\n",
        "# Usage\n",
        "Lung_df = extract_metadata_with_labels(directories, labels)\n",
        "print(Lung_df.head())"
      ],
      "metadata": {
        "colab": {
          "base_uri": "https://localhost:8080/"
        },
        "id": "9BddqopPFDgl",
        "outputId": "51c2b882-905c-4836-db52-227136104329"
      },
      "execution_count": null,
      "outputs": [
        {
          "output_type": "stream",
          "name": "stdout",
          "text": [
            "                                                                            filepaths  \\\n",
            "0  ./data/The IQ-OTHNCCD lung cancer dataset/Malignant cases/Malignant case (257).jpg   \n",
            "1  ./data/The IQ-OTHNCCD lung cancer dataset/Malignant cases/Malignant case (250).jpg   \n",
            "2  ./data/The IQ-OTHNCCD lung cancer dataset/Malignant cases/Malignant case (252).jpg   \n",
            "3  ./data/The IQ-OTHNCCD lung cancer dataset/Malignant cases/Malignant case (254).jpg   \n",
            "4  ./data/The IQ-OTHNCCD lung cancer dataset/Malignant cases/Malignant case (249).jpg   \n",
            "\n",
            "      labels  width  height format  \n",
            "0  cancerous    512     512   JPEG  \n",
            "1  cancerous    512     512   JPEG  \n",
            "2  cancerous    512     512   JPEG  \n",
            "3  cancerous    512     512   JPEG  \n",
            "4  cancerous    512     512   JPEG  \n"
          ]
        }
      ]
    },
    {
      "cell_type": "markdown",
      "source": [
        "## Pipeline Segmentation Approach (SKIMAGE)"
      ],
      "metadata": {
        "id": "hf7uuPR1Nuys"
      }
    },
    {
      "cell_type": "code",
      "source": [
        "def determine_score(arr, angle):\n",
        "    data = inter.rotate(arr, angle, reshape=False, order=0)\n",
        "    histogram = np.sum(data, axis=1, dtype=float)\n",
        "    score = np.sum((histogram[1:] - histogram[:-1]) ** 2, dtype=float)\n",
        "    return histogram, score\n",
        "\n",
        "\n",
        "def correct_skew(image, delta=1, limit=5):\n",
        "    thresh = cv.threshold(image, 0, 255, cv.THRESH_BINARY_INV + cv.THRESH_OTSU)[1]\n",
        "    scores = []\n",
        "    angles = np.arange(-limit, limit + delta, delta)\n",
        "    for angle in angles:\n",
        "        histogram, score = determine_score(thresh, angle)\n",
        "        scores.append(score)\n",
        "    best_angle = angles[scores.index(max(scores))]\n",
        "    (h, w) = image.shape[:2]\n",
        "    center = (w // 2, h // 2)\n",
        "    M = cv.getRotationMatrix2D(center, best_angle, 1.0)\n",
        "    corrected = cv.warpAffine(image, M, (w, h), flags=cv.INTER_CUBIC, \\\n",
        "            borderMode=cv.BORDER_REPLICATE)\n",
        "    return best_angle, corrected\n",
        "\n",
        "\n",
        "def bit_plane_slice(image):\n",
        "    bit_planes = []\n",
        "    for i in range(8):\n",
        "        mask = 2 ** i\n",
        "        bit_plane = np.bitwise_and(image, mask)\n",
        "        bit_planes.append(bit_plane)\n",
        "    return bit_planes\n",
        "\n",
        "\n",
        "def reconstruct_image(bit_planes):\n",
        "    reconstructed_image = np.zeros_like(bit_planes[0])\n",
        "    for i in range(6):\n",
        "        reconstructed_image = np.bitwise_or(reconstructed_image, bit_planes[-i])\n",
        "    return reconstructed_image\n",
        "\n",
        "\n",
        "def isolate_lung_area(image):\n",
        "    label_image = label(image)\n",
        "    regions = regionprops(label_image)\n",
        "    image_height = image.shape[0]\n",
        "\n",
        "    filtered_regions = [region for region in regions if region.area >= 600 and region.centroid[0] <= image_height * 0.75]\n",
        "    regions = sorted(filtered_regions, key=lambda x: x.area, reverse=True)\n",
        "\n",
        "    if len(regions) > 3:\n",
        "      top_n_regions = sorted(regions, key=lambda x: x.centroid[0])\n",
        "      top_n_highest_regions = top_n_regions[:-2]\n",
        "    elif len(regions) > 2:\n",
        "      top_n_regions = sorted(regions, key=lambda x: x.centroid[0])\n",
        "      top_n_highest_regions = top_n_regions[:-1]\n",
        "    else:\n",
        "      top_n_highest_regions = regions\n",
        "\n",
        "    mask = np.zeros_like(label_image, dtype=bool)\n",
        "    for region in top_n_highest_regions:\n",
        "        for coordinates in region.coords:\n",
        "          mask[coordinates[0], coordinates[1]] = 1\n",
        "    return mask\n",
        "\n",
        "def normalize_brightness(image, target_brightness=128):\n",
        "    gray = cv.cvtColor(image, cv.COLOR_BGR2GRAY)\n",
        "    current_brightness = np.mean(gray)\n",
        "    ratio = target_brightness / current_brightness\n",
        "    image_normalized = cv.convertScaleAbs(image, alpha=ratio, beta=0)\n",
        "    return image_normalized"
      ],
      "metadata": {
        "id": "Tmv_vSfFGV_a"
      },
      "execution_count": null,
      "outputs": []
    },
    {
      "cell_type": "code",
      "source": [
        "def pipeline(image):\n",
        "    camera =  cv.cvtColor(image, cv.COLOR_BGR2GRAY)\n",
        "    angle, corrected = correct_skew(camera)\n",
        "    bit_planes = bit_plane_slice(corrected)\n",
        "    bit_plane_reconstructed = reconstruct_image(bit_planes)\n",
        "    gauss = cv.GaussianBlur(bit_plane_reconstructed, (5, 5), 5)\n",
        "    thresh_val = filters.threshold_otsu(gauss)\n",
        "    thresh = gauss<thresh_val\n",
        "\n",
        "    cleared = clear_border(thresh)\n",
        "\n",
        "    cleared = isolate_lung_area(cleared)\n",
        "    cleared = binary_dilation(cleared, footprint=disk(8))\n",
        "    cleared = remove_small_objects(cleared,min_size=650)\n",
        "    cleared = remove_small_holes(cleared,area_threshold=900)\n",
        "    selem = disk(3, dtype=bool)\n",
        "    cleared = binary_closing(cleared,disk(8))\n",
        "    cleared = ndi.binary_fill_holes(cleared)\n",
        "    cleared = binary_erosion(cleared, selem)\n",
        "\n",
        "    cleared = binary_closing(cleared,disk(12))\n",
        "\n",
        "    result1 = gauss.copy()\n",
        "    result1[cleared == 0] = 0\n",
        "    result1[cleared != 0] = gauss[cleared != 0]\n",
        "    return result1, cleared"
      ],
      "metadata": {
        "id": "mWGBvCC8Gw2z"
      },
      "execution_count": null,
      "outputs": []
    },
    {
      "cell_type": "markdown",
      "source": [
        "### Output pipeline segmented images\n",
        "NOTE: processing & exporting 1,000+ CT Scans can take over a half hour depending on computer resources. The portion of code that exports the final segmented images needs to be uncommented before it will output."
      ],
      "metadata": {
        "id": "LUvyRyiFXfb3"
      }
    },
    {
      "cell_type": "code",
      "source": [
        "#Output Segmented Images - Original Dataset\n",
        "for value in Lung_df[\"filepaths\"]:\n",
        "  file_name = value.rsplit('/', 1)[-1]\n",
        "  #print(type(file_name))\n",
        "  category = file_name.split()[0]\n",
        "  #print(type(category))\n",
        "\n",
        "  if category == \"Bengin\":\n",
        "    output_directory = Benign_Seg_dir\n",
        "  elif category == \"Malignant\":\n",
        "    output_directory = Malignant_Seg_dir\n",
        "  elif category == \"Normal\":\n",
        "    output_directory = Normal_Seg_dir\n",
        "  else:\n",
        "    print(\"Error\", category)\n",
        "    break\n",
        "\n",
        "  image = cv.imread(value)\n",
        "  processed_image = pipeline(image)\n",
        "\n",
        "  output_path = os.path.join(output_directory[0], file_name)\n",
        "  #cv.imwrite(output_path, processed_image)"
      ],
      "metadata": {
        "id": "a7mu0qdAJfCY"
      },
      "execution_count": null,
      "outputs": []
    },
    {
      "cell_type": "code",
      "source": [
        "#Output Segmented Images - Validation Dataset\n",
        "for value in Lung_df_validation[\"filepaths\"]:\n",
        "  file_name = value.rsplit('/', 1)[-1]\n",
        "  result = re.match(r'^[^\\d]+', file_name)\n",
        "\n",
        "  if result.group(0) == \"adenocarcinoma\":\n",
        "    output_directory = Adenocarcinoma_DLCT_Seg_dir\n",
        "  elif result.group(0) == \"squamous.cell.carcinoma\":\n",
        "    output_directory = Squamous_Cell_Carcinoma_DLCT_Seg_dir\n",
        "  elif result.group(0) == \"large.cell.carcinoma\":\n",
        "    output_directory = Large_Cell_Carcinoma_DLCT_Seg_dir\n",
        "  elif result.group(0) == \"normal\":\n",
        "    output_directory = Normal_DLCT_Seg_dir\n",
        "  else:\n",
        "    print(\"Error\", result.group(0))\n",
        "    break\n",
        "\n",
        "  image = cv.imread(value)\n",
        "  processed_image, mask = pipeline(image)\n",
        "\n",
        "  output_path = os.path.join(output_directory[0], file_name)\n",
        "  #cv.imwrite(output_path, processed_image)"
      ],
      "metadata": {
        "id": "IN1IoZ7_Kv2j"
      },
      "execution_count": null,
      "outputs": []
    },
    {
      "cell_type": "markdown",
      "source": [
        "### Select well segmented images for UNET training\n",
        "NOTE: Lines of code that create the ouput path and export the given image need to be updated to desired path and uncommented before running."
      ],
      "metadata": {
        "id": "jvgGoF04XmYk"
      }
    },
    {
      "cell_type": "code",
      "source": [
        "def display_segmented(image_path):\n",
        "    image = cv.imread(image_path)\n",
        "\n",
        "    resized_image = cv.resize(image, (512, 512))\n",
        "    segmented_image, mask = pipeline(resized_image)\n",
        "    normalized_brightness_image = normalize_brightness(resized_image)\n",
        "    fig, ax = plt.subplots(1, 3, figsize=(10, 5))\n",
        "    ax[0].imshow(normalized_brightness_image)\n",
        "    ax[0].set_title('Original Image')\n",
        "    ax[1].imshow(segmented_image, cmap='gray')\n",
        "    ax[1].set_title('Segmented Image')\n",
        "    ax[2].imshow(mask, cmap='gray')\n",
        "    ax[2].set_title('Final Mask')\n",
        "    plt.axis('off')\n",
        "    plt.show()\n",
        "\n",
        "    time.sleep(1) # any brief amount of time seems to work\n",
        "    cv.destroyAllWindows()\n",
        "    cv.waitKey(0)\n",
        "\n",
        "    clean = input(\"\\nIs the segmentation quality good? (y/n)\\n\").lower().strip()\n",
        "    return clean, normalized_brightness_image, mask\n",
        "\n",
        "def select_good_segmentation(dataset):\n",
        "  count_good =0\n",
        "  for value in dataset:\n",
        "    clean, image, mask = display_segmented(value)\n",
        "    file_name = value.rsplit('/', 1)[-1]\n",
        "    print(file_name)\n",
        "\n",
        "    if clean == 'y':\n",
        "      count_good += 1\n",
        "      print(\"good\", count_good)\n",
        "      #mask_output_path = os.path.join('/content/drive/MyDrive/DSCI 592 Group/data/UNET/mask', file_name)\n",
        "      #image_output_path = os.path.join('/content/drive/MyDrive/DSCI 592 Group/data/UNET/image', file_name)\n",
        "      #mask_output_path = os.path.join('/content/drive/MyDrive/DSCI 592 Group/data/UNET/mask_val', file_name)\n",
        "      #image_output_path = os.path.join('/content/drive/MyDrive/DSCI 592 Group/data/UNET/image_val', file_name)\n",
        "      mask = mask.astype(np.uint8) * 255\n",
        "      #cv.imwrite(mask_output_path, mask)\n",
        "      #cv.imwrite(image_output_path, image)\n",
        "    elif clean == 'x':\n",
        "      break\n",
        "    else:\n",
        "      print(\"bad\")"
      ],
      "metadata": {
        "id": "zUDI-YcUIRaS"
      },
      "execution_count": null,
      "outputs": []
    },
    {
      "cell_type": "code",
      "source": [
        "select_good_segmentation(Lung_df['filepaths'])"
      ],
      "metadata": {
        "colab": {
          "base_uri": "https://localhost:8080/",
          "height": 379
        },
        "id": "8-_-Xm6aIsvS",
        "outputId": "dffe479c-9f28-43d1-e816-f99bd60eb6af"
      },
      "execution_count": null,
      "outputs": [
        {
          "output_type": "display_data",
          "data": {
            "text/plain": [
              "<Figure size 1000x500 with 3 Axes>"
            ],
            "image/png": "[encoded data removed]"
          },
          "metadata": {}
        },
        {
          "output_type": "stream",
          "name": "stdout",
          "text": [
            "\n",
            "Is the segmentation quality good? (y/n)\n",
            "x\n",
            "Normal case (109).jpg\n"
          ]
        }
      ]
    },
    {
      "cell_type": "markdown",
      "source": [
        "### View Pipeline outputs applied over a range of scans"
      ],
      "metadata": {
        "id": "P1vlIXz7XyMp"
      }
    },
    {
      "cell_type": "code",
      "source": [
        "#Subset Dataset to groups of ~100 Scans\n",
        "Lung_df_100 = Lung_df[0:99]\n",
        "Lung_df_200 = Lung_df[100:199]\n",
        "Lung_df_300 = Lung_df[200:299]\n",
        "Lung_df_400 = Lung_df[300:399]\n",
        "Lung_df_500 = Lung_df[400:499]\n",
        "Lung_df_600 = Lung_df[500:599]\n",
        "Lung_df_700 = Lung_df[600:699]\n",
        "Lung_df_800 = Lung_df[700:799]\n",
        "Lung_df_900 = Lung_df[800:899]\n",
        "Lung_df_1000 = Lung_df[900:999]\n",
        "Lung_df_1100 = Lung_df[1000:1099]\n",
        "Lung_df_1200 = Lung_df[1100:]\n",
        "\n",
        "Lung_df_validation_100 = Lung_df_validation[0:99]\n",
        "Lung_df_validation_200 = Lung_df_validation[100:199]\n",
        "Lung_df_validation_300 = Lung_df_validation[200:299]\n",
        "Lung_df_validation_400 = Lung_df_validation[300:399]\n",
        "Lung_df_validation_500 = Lung_df_validation[400:499]\n",
        "Lung_df_validation_600 = Lung_df_validation[500:599]\n",
        "Lung_df_validation_700 = Lung_df_validation[600:699]\n",
        "Lung_df_validation_800 = Lung_df_validation[700:799]\n",
        "Lung_df_validation_900 = Lung_df_validation[800:899]\n",
        "Lung_df_validation_1000 = Lung_df_validation[900:999]\n",
        "Lung_df_validation_1100 = Lung_df_validation[1000:1099]"
      ],
      "metadata": {
        "id": "quhLoDJXI0bf"
      },
      "execution_count": null,
      "outputs": []
    },
    {
      "cell_type": "code",
      "source": [
        "fig, axs = plt.subplots(10, 10, figsize=(15, 15))\n",
        "axs = axs.flatten()\n",
        "\n",
        "for index, (ax, value) in enumerate(zip(axs, Lung_df_100[\"filepaths\"])):\n",
        "    image = cv.imread(value)\n",
        "    processed_image, mask = pipeline(image)\n",
        "    ax.imshow(processed_image, cmap='gray')\n",
        "    ax.axis('off')\n",
        "    ax.set_title(f'Image {index+1}')"
      ],
      "metadata": {
        "id": "9uJoDkBqNMBW"
      },
      "execution_count": null,
      "outputs": []
    },
    {
      "cell_type": "markdown",
      "source": [
        "## UNET Segmentation Approach"
      ],
      "metadata": {
        "id": "FtmBo08aOQXj"
      }
    },
    {
      "cell_type": "code",
      "source": [
        "#Trained Model can be found here: https://drive.google.com/file/d/1kviV1Rn4MH_moMzqdKtmeUip8eoE-yik/view?usp=sharing\n",
        "trained_model = tf.keras.models.load_model('./data/UNET/lung_UNET.keras')\n",
        "trained_model.summary()"
      ],
      "metadata": {
        "id": "mUrM1K1eOXFv"
      },
      "execution_count": null,
      "outputs": []
    },
    {
      "cell_type": "code",
      "source": [
        "#Function to apply to image that will be masked (1st half of non-UNET pipeline)\n",
        "#Used so that both segmentation processes will result in a mask applied\n",
        "#to a tilt corrected / bitplane scliced / gaussian blurred image\n",
        "def preliminary_pipeline(image):\n",
        "  camera =  cv.cvtColor(image, cv.COLOR_BGR2GRAY)\n",
        "  angle, corrected = correct_skew(camera)\n",
        "  bit_planes = bit_plane_slice(corrected)\n",
        "  bit_plane_reconstructed = reconstruct_image(bit_planes)\n",
        "  gauss = cv.GaussianBlur(bit_plane_reconstructed, (5, 5), 5)\n",
        "  gauss_3d = cv.cvtColor(gauss, cv.COLOR_GRAY2BGR)\n",
        "\n",
        "  return gauss_3d\n",
        "\n",
        "\n",
        "#Function to clean output from output UNET Mask\n",
        "def UNET_clean(y_pred):\n",
        "  y_pred_2d = y_pred[:,:,0]\n",
        "  y_pred_2d = binary_dilation(y_pred_2d, footprint=disk(7))\n",
        "  y_pred_2d = remove_small_objects(y_pred_2d,min_size=900)\n",
        "  y_pred_2d = remove_small_holes(y_pred_2d,area_threshold=500)\n",
        "  y_pred_2d = binary_closing(y_pred_2d, disk(4))\n",
        "  y_pred_2d = remove_small_holes(y_pred_2d,area_threshold=300)\n",
        "  y_pred_2d = binary_erosion(y_pred_2d, footprint=disk(5))\n",
        "  y_pred_2d = remove_small_objects(y_pred_2d,min_size=1000)\n",
        "  y_pred_2d = ndi.binary_fill_holes(y_pred_2d)\n",
        "\n",
        "  return y_pred_2d"
      ],
      "metadata": {
        "id": "M18amh8HOj4O"
      },
      "execution_count": null,
      "outputs": []
    },
    {
      "cell_type": "code",
      "source": [
        "def UNET_pipeline(image_path):\n",
        "\n",
        "  original_image = cv.imread(image_path)\n",
        "  original_image = cv.resize(original_image, (512, 512))\n",
        "  original_image = preliminary_pipeline(original_image)\n",
        "\n",
        "  image = cv.imread(image_path, cv.IMREAD_COLOR)\n",
        "  image = cv.resize(image, (512, 512))\n",
        "  image = normalize_brightness(image)\n",
        "  image = image/255.0\n",
        "  image = np.expand_dims(image, axis=0)\n",
        "\n",
        "  y_pred = trained_model.predict(image)[0]\n",
        "  y_pred = y_pred > .1\n",
        "  y_pred = y_pred * 255\n",
        "  y_pred_2d = UNET_clean(y_pred)\n",
        "\n",
        "  result = original_image.copy()\n",
        "  result[y_pred_2d == 0] = 0\n",
        "\n",
        "  return result, y_pred_2d"
      ],
      "metadata": {
        "id": "PN_wffX_UTq4"
      },
      "execution_count": null,
      "outputs": []
    },
    {
      "cell_type": "markdown",
      "source": [
        "### Output UNET segmented images\n",
        "NOTE: processing & exporting 1,000+ CT Scans can take over an hour depending on computer resources. The portion of code that exports the final UNET segmented images needs to be uncommented before it will output."
      ],
      "metadata": {
        "id": "sPX3xa1QYWRT"
      }
    },
    {
      "cell_type": "code",
      "source": [
        "for value in Lung_df[\"filepaths\"]:\n",
        "  file_name = value.rsplit('/', 1)[-1]\n",
        "  category = file_name.split()[0]\n",
        "\n",
        "  if category == \"Bengin\":\n",
        "    output_directory = Benign_Seg_UNET_dir\n",
        "  elif category == \"Malignant\":\n",
        "    output_directory = Malignant_Seg_UNET_dir\n",
        "  elif category == \"Normal\":\n",
        "    output_directory = Normal_Seg_UNET_dir\n",
        "  else:\n",
        "    print(\"Error\", category)\n",
        "    break\n",
        "\n",
        "  segmented_image, mask = UNET_pipeline(value)\n",
        "\n",
        "  output_path = os.path.join(output_directory[0], file_name)\n",
        "  #cv.imwrite(output_path, segmented_image)"
      ],
      "metadata": {
        "id": "S1FoCRUFUfYP"
      },
      "execution_count": null,
      "outputs": []
    },
    {
      "cell_type": "code",
      "source": [
        "for value in Lung_df_validation[\"filepaths\"]:\n",
        "  file_name = value.rsplit('/', 1)[-1]\n",
        "  result = re.match(r'^[^\\d]+', file_name)\n",
        "\n",
        "  if result.group(0) == \"adenocarcinoma\":\n",
        "    output_directory = Adenocarcinoma_Seg_UNET_DLCT_dir\n",
        "  elif result.group(0) == \"squamous.cell.carcinoma\":\n",
        "    output_directory = Squamous_Cell_Carcinoma_Seg_UNET_DLCT_dir\n",
        "  elif result.group(0) == \"large.cell.carcinoma\":\n",
        "    output_directory = Large_Cell_Carcinoma_Seg_UNET_DLCT_dir\n",
        "  elif result.group(0) == \"normal\":\n",
        "    output_directory = Normal_Seg_UNET_DLCT_dir\n",
        "  else:\n",
        "    print(\"Error\", result.group(0))\n",
        "    break\n",
        "\n",
        "  segmented_image, mask = UNET_pipeline(value)\n",
        "\n",
        "  output_path = os.path.join(output_directory[0], file_name)\n",
        "  #cv.imwrite(output_path, segmented_image)"
      ],
      "metadata": {
        "id": "UkZF1W7AUh5u"
      },
      "execution_count": null,
      "outputs": []
    },
    {
      "cell_type": "markdown",
      "source": [
        "### View UNET outputs applied to multiple scans"
      ],
      "metadata": {
        "id": "wQemcqOAYmrM"
      }
    },
    {
      "cell_type": "code",
      "source": [
        "def display_segmented(image_path):\n",
        "  image = cv.imread(image_path, cv.IMREAD_COLOR)\n",
        "  segmented_image, mask = UNET_pipeline(image_path)\n",
        "\n",
        "  fig, ax = plt.subplots(1, 3, figsize=(10, 5))\n",
        "  ax[0].imshow(image)\n",
        "  ax[0].set_title('Original Image')\n",
        "  ax[1].imshow(segmented_image, cmap='gray')\n",
        "  ax[1].set_title('Segmented Image')\n",
        "  ax[2].imshow(mask, cmap='gray')\n",
        "  ax[2].set_title('Final Mask')\n",
        "  plt.axis('off')\n",
        "  plt.show()\n",
        "\n",
        "  time.sleep(1)\n",
        "  cv.destroyAllWindows()\n",
        "  cv.waitKey(0)\n",
        "\n",
        "  clean = input(\"\\nNext image? (y/n)\\n\").lower().strip()\n",
        "  return clean, image, mask\n",
        "\n",
        "def visualize_model_segmentation(dataset):\n",
        "  for value in dataset:\n",
        "    clean, image, mask = display_segmented(value)\n",
        "    file_name = value.rsplit('/', 1)[-1]\n",
        "    print(file_name)\n",
        "\n",
        "    if clean == 'y':\n",
        "      print(\"Next:\")\n",
        "    elif clean == 'n':\n",
        "      break\n",
        "    else:\n",
        "      print(\"Invalid input. Please enter 'y' or 'n'.\")"
      ],
      "metadata": {
        "id": "tSJh1F0vYiwF"
      },
      "execution_count": null,
      "outputs": []
    },
    {
      "cell_type": "code",
      "source": [
        "visualize_model_segmentation(Lung_df_400['filepaths'])"
      ],
      "metadata": {
        "id": "ddEAkcFDYuSi"
      },
      "execution_count": null,
      "outputs": []
    }
  ]
}
